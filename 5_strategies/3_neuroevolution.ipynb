{
 "cells": [
  {
   "cell_type": "markdown",
   "metadata": {},
   "source": [
    "<img src=\"../imgs/logo.png\" width=\"20%\" align=\"right\" style=\"margin:0px 20px\">\n",
    "\n",
    "\n",
    "# Evolutionary Computation\n",
    "\n",
    "## 5.3 Deep Neuroevolution\n",
    "\n",
    "<a rel=\"license\" href=\"http://creativecommons.org/licenses/by-sa/4.0/\"><img alt=\"Creative Commons License\" align=\"left\" src=\"https://i.creativecommons.org/l/by-sa/4.0/80x15.png\" /></a>&nbsp;| Dennis G. Wilson | <a href=\"https://d9w.github.io/evolution/\">https://d9w.github.io/evolution/</a>"
   ]
  },
  {
   "cell_type": "code",
   "execution_count": 1,
   "metadata": {},
   "outputs": [],
   "source": [
    "using PyCall\n",
    "using Conda"
   ]
  },
  {
   "cell_type": "code",
   "execution_count": 2,
   "metadata": {
    "scrolled": true
   },
   "outputs": [
    {
     "name": "stderr",
     "output_type": "stream",
     "text": [
      "┌ Info: Running `conda install -y gym` in root environment\n",
      "└ @ Conda /Users/louiseplacidet/.julia/packages/Conda/3rPhK/src/Conda.jl:113\n"
     ]
    },
    {
     "name": "stdout",
     "output_type": "stream",
     "text": [
      "Collecting package metadata (current_repodata.json): ...working... done\n",
      "Solving environment: ...working... done\n",
      "\n",
      "# All requested packages already installed.\n",
      "\n"
     ]
    }
   ],
   "source": [
    "Conda.add(\"gym\")"
   ]
  },
  {
   "cell_type": "code",
   "execution_count": 3,
   "metadata": {},
   "outputs": [],
   "source": [
    "import Random\n",
    "Random.seed!(1234);"
   ]
  },
  {
   "cell_type": "code",
   "execution_count": 4,
   "metadata": {},
   "outputs": [],
   "source": [
    "include(\"cmaes.jl\");"
   ]
  },
  {
   "cell_type": "code",
   "execution_count": 5,
   "metadata": {},
   "outputs": [],
   "source": [
    "struct FCLayer\n",
    "    w::Array{Float64}\n",
    "    b::Array{Float64}\n",
    "end\n",
    "\n",
    "struct SimpleANN\n",
    "    l1::FCLayer\n",
    "    l2::FCLayer\n",
    "    out::FCLayer\n",
    "end"
   ]
  },
  {
   "cell_type": "code",
   "execution_count": 6,
   "metadata": {},
   "outputs": [
    {
     "data": {
      "text/plain": [
       "SimpleANN"
      ]
     },
     "execution_count": 6,
     "metadata": {},
     "output_type": "execute_result"
    }
   ],
   "source": [
    "function SimpleANN(input::Int, N1::Int, N2::Int, output::Int)\n",
    "    l1 = FCLayer(zeros(N1, input), zeros(N1))\n",
    "    l2 = FCLayer(zeros(N2, N1), zeros(N2))\n",
    "    out = FCLayer(zeros(output, N2), zeros(output))\n",
    "    SimpleANN(l1, l2, out)\n",
    "end"
   ]
  },
  {
   "cell_type": "code",
   "execution_count": 7,
   "metadata": {},
   "outputs": [],
   "source": [
    "ann = SimpleANN(5, 64, 64, 4);"
   ]
  },
  {
   "cell_type": "code",
   "execution_count": 8,
   "metadata": {},
   "outputs": [
    {
     "data": {
      "text/plain": [
       "compute (generic function with 1 method)"
      ]
     },
     "execution_count": 8,
     "metadata": {},
     "output_type": "execute_result"
    }
   ],
   "source": [
    "function compute(inputs::Array{Float64}, ann::SimpleANN)\n",
    "    x = ann.l1.w * inputs .+ ann.l1.b\n",
    "    x = ann.l2.w * x .+ ann.l2.b\n",
    "    x = ann.out.w * x .+ ann.out.b\n",
    "    x\n",
    "end"
   ]
  },
  {
   "cell_type": "code",
   "execution_count": 9,
   "metadata": {},
   "outputs": [
    {
     "data": {
      "text/plain": [
       "4-element Array{Float64,1}:\n",
       " 0.0\n",
       " 0.0\n",
       " 0.0\n",
       " 0.0"
      ]
     },
     "execution_count": 9,
     "metadata": {},
     "output_type": "execute_result"
    }
   ],
   "source": [
    "compute(zeros(5), ann)"
   ]
  },
  {
   "cell_type": "code",
   "execution_count": 10,
   "metadata": {},
   "outputs": [
    {
     "data": {
      "text/plain": [
       "PyObject <module 'gym' from '/Users/louiseplacidet/.julia/conda/3/lib/python3.7/site-packages/gym/__init__.py'>"
      ]
     },
     "execution_count": 10,
     "metadata": {},
     "output_type": "execute_result"
    }
   ],
   "source": [
    "gym = pyimport(\"gym\")"
   ]
  },
  {
   "cell_type": "code",
   "execution_count": 11,
   "metadata": {},
   "outputs": [],
   "source": [
    "env = gym.make(\"CartPole-v1\")\n",
    "n_in = 4\n",
    "n_out = 2;"
   ]
  },
  {
   "cell_type": "code",
   "execution_count": 12,
   "metadata": {},
   "outputs": [
    {
     "data": {
      "text/plain": [
       "play_env (generic function with 1 method)"
      ]
     },
     "execution_count": 12,
     "metadata": {},
     "output_type": "execute_result"
    }
   ],
   "source": [
    "function play_env(ann::SimpleANN; render=false)\n",
    "    env = gym.make(\"CartPole-v1\")\n",
    "    env.seed(0)\n",
    "    obs = env.reset()\n",
    "    total_reward = 0.0\n",
    "    done = false\n",
    "    \n",
    "    while ~done\n",
    "        action = argmax(compute(obs, ann))-1\n",
    "        obs, reward, done, _ = env.step(action)\n",
    "        if render\n",
    "            env.render()\n",
    "        end\n",
    "        total_reward += reward\n",
    "    end\n",
    "    env.close()\n",
    "    env = nothing\n",
    "    Base.GC.gc()\n",
    "    total_reward\n",
    "end"
   ]
  },
  {
   "cell_type": "code",
   "execution_count": 13,
   "metadata": {},
   "outputs": [
    {
     "data": {
      "text/plain": [
       "9.0"
      ]
     },
     "execution_count": 13,
     "metadata": {},
     "output_type": "execute_result"
    }
   ],
   "source": [
    "ann = SimpleANN(n_in, 5, 5, n_out)\n",
    "play_env(ann; render=true)"
   ]
  },
  {
   "cell_type": "code",
   "execution_count": 14,
   "metadata": {},
   "outputs": [
    {
     "data": {
      "text/plain": [
       "9.0"
      ]
     },
     "execution_count": 14,
     "metadata": {},
     "output_type": "execute_result"
    }
   ],
   "source": [
    "play_env(ann)"
   ]
  },
  {
   "cell_type": "code",
   "execution_count": 13,
   "metadata": {},
   "outputs": [
    {
     "data": {
      "text/plain": [
       "genes_to_ann (generic function with 1 method)"
      ]
     },
     "execution_count": 13,
     "metadata": {},
     "output_type": "execute_result"
    }
   ],
   "source": [
    "function genes_to_ann(genes::Array{Float64})\n",
    "    ann = SimpleANN(n_in, 5, 5, n_out)\n",
    "    layers = [ann.l1.w, ann.l1.b, ann.l2.w, ann.l2.b, ann.out.w, ann.out.b]\n",
    "    L = 1\n",
    "    j = 1\n",
    "    for i in eachindex(genes)\n",
    "        if j > length(layers[L])\n",
    "            L += 1\n",
    "            j = 1\n",
    "        end\n",
    "        layers[L][j] = genes[i]\n",
    "        j += 1\n",
    "    end\n",
    "    ann\n",
    "end"
   ]
  },
  {
   "cell_type": "code",
   "execution_count": 14,
   "metadata": {},
   "outputs": [
    {
     "data": {
      "text/plain": [
       "objective (generic function with 1 method)"
      ]
     },
     "execution_count": 14,
     "metadata": {},
     "output_type": "execute_result"
    }
   ],
   "source": [
    "function objective(genes::Array{Float64})\n",
    "    ann = genes_to_ann(genes)\n",
    "    -play_env(ann)\n",
    "end"
   ]
  },
  {
   "cell_type": "code",
   "execution_count": 15,
   "metadata": {},
   "outputs": [
    {
     "data": {
      "text/plain": [
       "67"
      ]
     },
     "execution_count": 15,
     "metadata": {},
     "output_type": "execute_result"
    }
   ],
   "source": [
    "N = n_in*5 + 5 + 5*5 + 5 + 5*n_out + n_out"
   ]
  },
  {
   "cell_type": "code",
   "execution_count": 16,
   "metadata": {},
   "outputs": [
    {
     "data": {
      "text/plain": [
       "SimpleANN(FCLayer([0.8673472019512456 2.2118774995743475 -0.5605013381807765 0.11009612632217552; -0.9017438158568171 0.5328132821695382 -0.019291781689849075 -0.2511757400198831; … ; -0.9029142938652416 0.5023344963886675 1.852782957725545 0.07211635315125874; 0.8644013132535154 -0.5169836206932686 -0.8277634318169205 -1.503429457351051], [1.5641682355362416, -1.3967353668333795, 1.1054978391059092, -1.1067299135255761, -3.2113596499239088]), FCLayer([-0.07401454242444336 -1.2796722102183824 … -0.0801624859452718 -0.11445720023473198; 0.1509756176321479 0.9973171556575041 … -1.0912192142639132 0.1658369675157237; … ; -0.31015257323306406 -0.036445994527206725 … -0.3154372460983286 -1.009783518501397; -0.6027068905147959 0.14197425838484184 … -1.3614476249361172 -0.5438048486401967], [-1.2267247260093483, -0.5417157197543718, -0.6864935365141717, -0.7129319615024848, -0.3270588960867544]), FCLayer([0.5148361669491318 -0.3079736599439786 … -0.9871768159072896 -0.5227721501159824; 2.4174733478680444 1.2453033858573443 … 1.4821723679733616 -1.580700774609182], [0.1318423302974782, 0.44735795730457095]))"
      ]
     },
     "execution_count": 16,
     "metadata": {},
     "output_type": "execute_result"
    }
   ],
   "source": [
    "ann = genes_to_ann(randn(N))"
   ]
  },
  {
   "cell_type": "code",
   "execution_count": 19,
   "metadata": {},
   "outputs": [
    {
     "data": {
      "text/plain": [
       "13.0"
      ]
     },
     "execution_count": 19,
     "metadata": {},
     "output_type": "execute_result"
    }
   ],
   "source": [
    "play_env(ann)"
   ]
  },
  {
   "cell_type": "code",
   "execution_count": 17,
   "metadata": {},
   "outputs": [
    {
     "data": {
      "text/plain": [
       "13.0"
      ]
     },
     "execution_count": 17,
     "metadata": {},
     "output_type": "execute_result"
    }
   ],
   "source": [
    "play_env(ann)"
   ]
  },
  {
   "cell_type": "code",
   "execution_count": 18,
   "metadata": {},
   "outputs": [
    {
     "name": "stdout",
     "output_type": "stream",
     "text": [
      "1 206.0\n",
      "2 128.0\n",
      "3 39.0\n",
      "4 119.0\n",
      "5 116.0\n"
     ]
    }
   ],
   "source": [
    "c = CMAES(N=N, µ=10, λ=30, τ=sqrt(N), τ_c=N^2, τ_σ=sqrt(N))\n",
    "for i in 1:5\n",
    "    step!(c, objective)\n",
    "    println(i, \" \", maximum(.-c.F_λ))\n",
    "end"
   ]
  },
  {
   "cell_type": "code",
   "execution_count": 19,
   "metadata": {},
   "outputs": [
    {
     "name": "stdout",
     "output_type": "stream",
     "text": [
      "1 94.0\n",
      "2 116.0\n",
      "3 500.0\n"
     ]
    }
   ],
   "source": [
    "best = nothing\n",
    "best_fit = -Inf\n",
    "c = CMAES(N=N, µ=10, λ=30, τ=sqrt(N), τ_c=N^2, τ_σ=sqrt(N))\n",
    "for i in 1:20\n",
    "    step!(c, objective)\n",
    "    bestind = argmin(c.F_λ)\n",
    "    maxfit = -c.F_λ[bestind]\n",
    "    println(i, \" \", maxfit)\n",
    "    if maxfit > best_fit\n",
    "        best = copy(c.offspring[bestind])\n",
    "        best_fit = maxfit\n",
    "    end\n",
    "    if best_fit == 500\n",
    "        break\n",
    "    end\n",
    "end"
   ]
  },
  {
   "cell_type": "code",
   "execution_count": 20,
   "metadata": {},
   "outputs": [
    {
     "data": {
      "text/plain": [
       "500.0"
      ]
     },
     "execution_count": 20,
     "metadata": {},
     "output_type": "execute_result"
    }
   ],
   "source": [
    "ann = genes_to_ann(best)\n",
    "play_env(ann; render=true)"
   ]
  }
 ],
 "metadata": {
  "@webio": {
   "lastCommId": null,
   "lastKernelId": null
  },
  "kernelspec": {
   "display_name": "Julia 1.4.0",
   "language": "julia",
   "name": "julia-1.4"
  },
  "language_info": {
   "file_extension": ".jl",
   "mimetype": "application/julia",
   "name": "julia",
   "version": "1.4.0"
  }
 },
 "nbformat": 4,
 "nbformat_minor": 2
}
